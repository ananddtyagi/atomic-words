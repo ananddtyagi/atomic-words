{
 "cells": [
  {
   "cell_type": "code",
   "execution_count": 50,
   "metadata": {},
   "outputs": [],
   "source": [
    "import pandas\n",
    "atomicInfoTable = pandas.read_csv(\"atomic-info.csv\")"
   ]
  },
  {
   "cell_type": "code",
   "execution_count": 12,
   "metadata": {},
   "outputs": [],
   "source": [
    "symbols = atomicInfoTable.Symbol.values"
   ]
  },
  {
   "cell_type": "code",
   "execution_count": 114,
   "metadata": {},
   "outputs": [],
   "source": [
    "for i, s in enumerate(symbols):\n",
    "    symbols[i] = s.lower()"
   ]
  },
  {
   "cell_type": "code",
   "execution_count": 117,
   "metadata": {},
   "outputs": [
    {
     "data": {
      "text/plain": [
       "['p', 'cu']"
      ]
     },
     "execution_count": 117,
     "metadata": {},
     "output_type": "execute_result"
    }
   ],
   "source": [
    "def convertListToDict(inputList):\n",
    "    outputDict = {}\n",
    "    for value in inputList:\n",
    "        outputDict[value] = 0\n",
    "\n",
    "    return outputDict\n",
    "\n",
    "def baseCases(word, symbolsDict):\n",
    "    if word == \"\":\n",
    "        return []\n",
    "    if len (word) == 1:\n",
    "        if word in symbolsDict:\n",
    "          return [word]\n",
    "        return []\n",
    "    if len(word) == 2:\n",
    "        if word in symbolsDict:\n",
    "            return [word]\n",
    "        if word[0] in symbolsDict and word[1] in symbolsDict:\n",
    "            return [word[0], word[1]]\n",
    "        return []\n",
    "\n",
    "def breakdown(word, symbolsDict):\n",
    "    if baseCases(word, symbolDict) == []:\n",
    "        return []\n",
    "    \n",
    "    #so now we know, word is greater than 2 letters\n",
    "    breakdowns = [[]] #we treat 0 not as the corresponding to the 0th value, but empty string. So breakdowns will end up being len(word) + 1 \n",
    "\n",
    "    if word[0] in symbolsDict:\n",
    "        breakdowns.append([word[0]])\n",
    "    else: \n",
    "        breakdowns.append([[]])\n",
    "\n",
    "    for i, letter in enumerate(word[1:], 1):\n",
    "        onePreviousCombos = breakdowns[i].copy()\n",
    "        twoPreviousCombos = breakdowns[i-1].copy()\n",
    "\n",
    "        newCombos = []\n",
    "        doubleCharPotentialSymbol = word[i-1] + letter\n",
    "\n",
    "        if letter in symbolsDict:\n",
    "            for combo in onePreviousCombos:\n",
    "                newCombos.append(onePreviousCombos + [letter])\n",
    "        \n",
    "        if doubleCharPotentialSymbol in symbolsDict:\n",
    "            for combo in twoPreviousCombos:\n",
    "                newCombos.append(twoPreviousCombos + [doubleCharPotentialSymbol])\n",
    "\n",
    "\n",
    "        if newCombos == []: \n",
    "            return []\n",
    "\n",
    "        breakdowns += newCombos\n",
    "\n",
    "    return breakdowns[-1]\n",
    "\n",
    "\n",
    "\n",
    "symbolDict = convertListToDict(symbols)\n",
    "# what about the case where there are multiple potential breakdowns?\n",
    "word = \"pcu\"\n",
    "output = breakdown(word,symbolDict)\n",
    "output\n"
   ]
  }
 ],
 "metadata": {
  "interpreter": {
   "hash": "b0fa6594d8f4cbf19f97940f81e996739fb7646882a419484c72d19e05852a7e"
  },
  "kernelspec": {
   "display_name": "Python 3.9.10 64-bit",
   "language": "python",
   "name": "python3"
  },
  "language_info": {
   "codemirror_mode": {
    "name": "ipython",
    "version": 3
   },
   "file_extension": ".py",
   "mimetype": "text/x-python",
   "name": "python",
   "nbconvert_exporter": "python",
   "pygments_lexer": "ipython3",
   "version": "3.9.10"
  },
  "orig_nbformat": 4
 },
 "nbformat": 4,
 "nbformat_minor": 2
}
